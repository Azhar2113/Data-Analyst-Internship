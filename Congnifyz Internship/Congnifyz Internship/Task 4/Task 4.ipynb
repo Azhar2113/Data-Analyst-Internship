{
 "cells": [
  {
   "cell_type": "markdown",
   "id": "5063bbfa-0bd9-4f4d-a5a0-befd4035ad5d",
   "metadata": {},
   "source": [
    "# ✅ Level 1 - Task 4: Online Delivery"
   ]
  },
  {
   "cell_type": "markdown",
   "id": "1b9ce07c-70ee-4b3d-ae08-d76b5818f3ca",
   "metadata": {},
   "source": [
    "🔍 Objective:\n",
    "Find the percentage of restaurants that offer online delivery\n",
    "\n",
    "1. Compare the average ratings of:\n",
    "\n",
    "2. Restaurants with online delivery\n",
    "\n",
    "3. Restaurants without online delivery\n",
    "\n"
   ]
  },
  {
   "cell_type": "markdown",
   "id": "080d3025-6154-4a28-8379-cc68ce733d78",
   "metadata": {},
   "source": [
    "🟦 Step 1: Import Required Libraries"
   ]
  },
  {
   "cell_type": "code",
   "execution_count": 5,
   "id": "356981b6-1ea7-431e-97a7-f0f9428a8d75",
   "metadata": {},
   "outputs": [],
   "source": [
    "import pandas as pd\n"
   ]
  },
  {
   "cell_type": "markdown",
   "id": "61e091ac-12bc-407f-a7bc-024c0771c864",
   "metadata": {},
   "source": [
    "🟦 Step 2: Load the Dataset"
   ]
  },
  {
   "cell_type": "code",
   "execution_count": 8,
   "id": "44564399-cc02-4274-bbb2-736d92e3e2f5",
   "metadata": {},
   "outputs": [],
   "source": [
    "df = pd.read_csv(\"DS.csv\")\n"
   ]
  },
  {
   "cell_type": "code",
   "execution_count": null,
   "id": "e948abb5-d2cc-4fe1-984a-fe82c5a9d29a",
   "metadata": {},
   "outputs": [],
   "source": []
  }
 ],
 "metadata": {
  "kernelspec": {
   "display_name": "Python [conda env:base] *",
   "language": "python",
   "name": "conda-base-py"
  },
  "language_info": {
   "codemirror_mode": {
    "name": "ipython",
    "version": 3
   },
   "file_extension": ".py",
   "mimetype": "text/x-python",
   "name": "python",
   "nbconvert_exporter": "python",
   "pygments_lexer": "ipython3",
   "version": "3.12.7"
  }
 },
 "nbformat": 4,
 "nbformat_minor": 5
}
