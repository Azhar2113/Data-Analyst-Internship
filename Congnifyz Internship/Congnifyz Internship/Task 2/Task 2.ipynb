{
 "cells": [
  {
   "cell_type": "markdown",
   "id": "15cbaaa1-7289-481f-85b9-400a60903ffe",
   "metadata": {},
   "source": [
    "# ✅ Level 1 - Task 2: City Analysis"
   ]
  },
  {
   "cell_type": "markdown",
   "id": "071d06d0-01f5-4abb-888e-2879753426b9",
   "metadata": {},
   "source": [
    "🔍 Objective:\n",
    "- Find the city with the highest number of restaurants\n",
    "\n",
    "- Calculate average rating for each city\n",
    "\n",
    "- Identify the city with the highest average rating\n",
    "\n"
   ]
  },
  {
   "cell_type": "markdown",
   "id": "914f10c3-3991-4e52-bb43-85f51ac254fb",
   "metadata": {},
   "source": [
    "🟦 Step 1: Import Required Libraries"
   ]
  },
  {
   "cell_type": "code",
   "execution_count": 14,
   "id": "4355e63a-9068-473b-a63e-3ef54c36f954",
   "metadata": {},
   "outputs": [],
   "source": [
    "import pandas as pd\n"
   ]
  },
  {
   "cell_type": "markdown",
   "id": "875f50da-4a92-4e1c-b20c-a31219317505",
   "metadata": {},
   "source": [
    "🟦 Step 2: Load the Dataset"
   ]
  },
  {
   "cell_type": "code",
   "execution_count": 17,
   "id": "ebeee941-b5db-4fcb-9277-595a6a3a88a1",
   "metadata": {},
   "outputs": [],
   "source": [
    "df = pd.read_csv(\"DS.csv\")\n"
   ]
  },
  {
   "cell_type": "markdown",
   "id": "56348d4f-7225-4c94-bcc9-32bfa3e453c1",
   "metadata": {},
   "source": [
    "🟦 Step 3: Find City with Most Restaurants\n"
   ]
  },
  {
   "cell_type": "code",
   "execution_count": 20,
   "id": "4e6c71bb-442a-438b-99c9-548e178a2329",
   "metadata": {},
   "outputs": [
    {
     "name": "stdout",
     "output_type": "stream",
     "text": [
      "City with most restaurants: New Delhi (5473 restaurants)\n"
     ]
    }
   ],
   "source": [
    "# Count number of restaurants per city\n",
    "city_counts = df['City'].value_counts()\n",
    "\n",
    "# City with the highest number of restaurants\n",
    "top_city = city_counts.idxmax()\n",
    "top_count = city_counts.max()\n",
    "\n",
    "print(f\"City with most restaurants: {top_city} ({top_count} restaurants)\")\n"
   ]
  },
  {
   "cell_type": "markdown",
   "id": "5fa13aab-3d41-44f0-aef0-c7e5dbfc3dd4",
   "metadata": {},
   "source": [
    "🟦 Step 4: Average Rating Per City"
   ]
  },
  {
   "cell_type": "code",
   "execution_count": 23,
   "id": "6c7d9319-3301-4cce-85e5-cd0f0f8d1619",
   "metadata": {},
   "outputs": [
    {
     "name": "stdout",
     "output_type": "stream",
     "text": [
      "\n",
      "Average rating per city:\n",
      "\n",
      "City\n",
      "Inner City          4.90\n",
      "Quezon City         4.80\n",
      "Makati City         4.65\n",
      "Pasig City          4.63\n",
      "Mandaluyong City    4.62\n",
      "                    ... \n",
      "New Delhi           2.44\n",
      "Montville           2.40\n",
      "Mc Millan           2.40\n",
      "Noida               2.04\n",
      "Faridabad           1.87\n",
      "Name: Aggregate rating, Length: 141, dtype: float64\n"
     ]
    }
   ],
   "source": [
    "# Group by city and calculate average ratings\n",
    "city_avg_rating = df.groupby('City')['Aggregate rating'].mean().round(2)\n",
    "\n",
    "# Sort cities by average rating in descending order\n",
    "sorted_avg_rating = city_avg_rating.sort_values(ascending=False)\n",
    "\n",
    "print(\"\\nAverage rating per city:\\n\")\n",
    "print(sorted_avg_rating)\n"
   ]
  },
  {
   "cell_type": "markdown",
   "id": "d89987ad-de50-4f18-a064-17fb19936c71",
   "metadata": {},
   "source": [
    "🟦 Step 5: City with Highest Average Rating"
   ]
  },
  {
   "cell_type": "code",
   "execution_count": 26,
   "id": "1675c9db-ac20-40e8-b488-76026bd3f8bf",
   "metadata": {},
   "outputs": [
    {
     "name": "stdout",
     "output_type": "stream",
     "text": [
      "\n",
      "City with highest average rating: Inner City (4.9)\n"
     ]
    }
   ],
   "source": [
    "highest_avg_city = sorted_avg_rating.idxmax()\n",
    "highest_avg = sorted_avg_rating.max()\n",
    "\n",
    "print(f\"\\nCity with highest average rating: {highest_avg_city} ({highest_avg})\")"
   ]
  },
  {
   "cell_type": "code",
   "execution_count": null,
   "id": "46fcc86a-bd08-4921-b811-fcdbaf418f3e",
   "metadata": {},
   "outputs": [],
   "source": []
  }
 ],
 "metadata": {
  "kernelspec": {
   "display_name": "Python [conda env:base] *",
   "language": "python",
   "name": "conda-base-py"
  },
  "language_info": {
   "codemirror_mode": {
    "name": "ipython",
    "version": 3
   },
   "file_extension": ".py",
   "mimetype": "text/x-python",
   "name": "python",
   "nbconvert_exporter": "python",
   "pygments_lexer": "ipython3",
   "version": "3.12.7"
  }
 },
 "nbformat": 4,
 "nbformat_minor": 5
}
